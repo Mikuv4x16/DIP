{
 "cells": [
  {
   "cell_type": "code",
   "execution_count": null,
   "metadata": {},
   "outputs": [],
   "source": [
    "import os\n",
    "from ultralytics import YOLO\n",
    "\n",
    "ROOT_DIR = r'D:\\DIP\\Vietnam license-plate.v1i.yolov8'\n",
    "\n",
    "model = YOLO('yolov8n.yaml')\n",
    "results = model.train(data=os.path.join(ROOT_DIR, r'D:\\DIP\\Vietnam license-plate.v1i.yolov8\\data.yaml'), epochs=100)"
   ]
  }
 ],
 "metadata": {
  "kernelspec": {
   "display_name": "number",
   "language": "python",
   "name": "python3"
  },
  "language_info": {
   "codemirror_mode": {
    "name": "ipython",
    "version": 3
   },
   "file_extension": ".py",
   "mimetype": "text/x-python",
   "name": "python",
   "nbconvert_exporter": "python",
   "pygments_lexer": "ipython3",
   "version": "3.7.12"
  }
 },
 "nbformat": 4,
 "nbformat_minor": 2
}
